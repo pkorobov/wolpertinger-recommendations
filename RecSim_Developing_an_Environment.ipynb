{
 "cells": [
  {
   "cell_type": "code",
   "execution_count": 1,
   "metadata": {
    "colab": {},
    "colab_type": "code",
    "id": "a00rX0hWRMNl"
   },
   "outputs": [
    {
     "ename": "KeyboardInterrupt",
     "evalue": "",
     "output_type": "error",
     "traceback": [
      "\u001b[0;31m---------------------------------------------------------------------------\u001b[0m",
      "\u001b[0;31mKeyboardInterrupt\u001b[0m                         Traceback (most recent call last)",
      "\u001b[0;32m<ipython-input-1-02c5f6af9acd>\u001b[0m in \u001b[0;36m<module>\u001b[0;34m\u001b[0m\n\u001b[1;32m      1\u001b[0m \u001b[0;31m#@title Generic imports\u001b[0m\u001b[0;34m\u001b[0m\u001b[0;34m\u001b[0m\u001b[0;34m\u001b[0m\u001b[0m\n\u001b[0;32m----> 2\u001b[0;31m \u001b[0;32mimport\u001b[0m \u001b[0mnumpy\u001b[0m \u001b[0;32mas\u001b[0m \u001b[0mnp\u001b[0m\u001b[0;34m\u001b[0m\u001b[0;34m\u001b[0m\u001b[0m\n\u001b[0m\u001b[1;32m      3\u001b[0m \u001b[0;32mfrom\u001b[0m \u001b[0mgym\u001b[0m \u001b[0;32mimport\u001b[0m \u001b[0mspaces\u001b[0m\u001b[0;34m\u001b[0m\u001b[0;34m\u001b[0m\u001b[0m\n\u001b[1;32m      4\u001b[0m \u001b[0;32mimport\u001b[0m \u001b[0mmatplotlib\u001b[0m\u001b[0;34m.\u001b[0m\u001b[0mpyplot\u001b[0m \u001b[0;32mas\u001b[0m \u001b[0mplt\u001b[0m\u001b[0;34m\u001b[0m\u001b[0;34m\u001b[0m\u001b[0m\n\u001b[1;32m      5\u001b[0m \u001b[0;32mfrom\u001b[0m \u001b[0mscipy\u001b[0m \u001b[0;32mimport\u001b[0m \u001b[0mstats\u001b[0m\u001b[0;34m\u001b[0m\u001b[0;34m\u001b[0m\u001b[0m\n",
      "\u001b[0;32m/opt/anaconda3/envs/work/lib/python3.7/site-packages/numpy/__init__.py\u001b[0m in \u001b[0;36m<module>\u001b[0;34m\u001b[0m\n\u001b[1;32m    141\u001b[0m \u001b[0;34m\u001b[0m\u001b[0m\n\u001b[1;32m    142\u001b[0m     \u001b[0;32mfrom\u001b[0m \u001b[0;34m.\u001b[0m \u001b[0;32mimport\u001b[0m \u001b[0mcore\u001b[0m\u001b[0;34m\u001b[0m\u001b[0;34m\u001b[0m\u001b[0m\n\u001b[0;32m--> 143\u001b[0;31m     \u001b[0;32mfrom\u001b[0m \u001b[0;34m.\u001b[0m\u001b[0mcore\u001b[0m \u001b[0;32mimport\u001b[0m \u001b[0;34m*\u001b[0m\u001b[0;34m\u001b[0m\u001b[0;34m\u001b[0m\u001b[0m\n\u001b[0m\u001b[1;32m    144\u001b[0m     \u001b[0;32mfrom\u001b[0m \u001b[0;34m.\u001b[0m \u001b[0;32mimport\u001b[0m \u001b[0mcompat\u001b[0m\u001b[0;34m\u001b[0m\u001b[0;34m\u001b[0m\u001b[0m\n\u001b[1;32m    145\u001b[0m     \u001b[0;32mfrom\u001b[0m \u001b[0;34m.\u001b[0m \u001b[0;32mimport\u001b[0m \u001b[0mlib\u001b[0m\u001b[0;34m\u001b[0m\u001b[0;34m\u001b[0m\u001b[0m\n",
      "\u001b[0;31mKeyboardInterrupt\u001b[0m: "
     ]
    }
   ],
   "source": [
    "#@title Generic imports\n",
    "import numpy as np\n",
    "from gym import spaces\n",
    "import matplotlib.pyplot as plt\n",
    "from scipy import stats"
   ]
  },
  {
   "cell_type": "code",
   "execution_count": null,
   "metadata": {
    "colab": {},
    "colab_type": "code",
    "id": "JNKQb4XSFCXp"
   },
   "outputs": [],
   "source": [
    "#@title RecSim imports\n",
    "from recsim import document\n",
    "from recsim import user\n",
    "from recsim.choice_model import MultinomialLogitChoiceModel\n",
    "from recsim.simulator import environment\n",
    "from recsim.simulator import recsim_gym"
   ]
  },
  {
   "cell_type": "code",
   "execution_count": null,
   "metadata": {},
   "outputs": [],
   "source": [
    "DOC_NUM = 5"
   ]
  },
  {
   "cell_type": "code",
   "execution_count": null,
   "metadata": {},
   "outputs": [],
   "source": [
    "np.random.seed(1)"
   ]
  },
  {
   "cell_type": "code",
   "execution_count": null,
   "metadata": {},
   "outputs": [],
   "source": [
    "W = np.random.uniform(0, 1, size=(DOC_NUM, DOC_NUM))"
   ]
  },
  {
   "cell_type": "code",
   "execution_count": null,
   "metadata": {},
   "outputs": [],
   "source": [
    "def generate_W():\n",
    "    W = np.random.uniform(0, 1, size=(DOC_NUM, DOC_NUM))\n",
    "    W = W * (np.ones((DOC_NUM, DOC_NUM)) - np.eye(DOC_NUM, DOC_NUM))\n",
    "    W = W / W.sum(axis=1).reshape(-1, 1)\n",
    "    return W"
   ]
  },
  {
   "cell_type": "code",
   "execution_count": null,
   "metadata": {},
   "outputs": [],
   "source": [
    "W = generate_W()"
   ]
  },
  {
   "cell_type": "code",
   "execution_count": null,
   "metadata": {},
   "outputs": [],
   "source": [
    "W = np.array([[0., .8, .01, .09, .1],\n",
    "              [.1, .6, 0., 0., .3],\n",
    "              [0., .7, 0.1, 0.1, 0.1],\n",
    "              [0., .5, 4., 0., .1],\n",
    "              [0., 1., 0., 0., 0.]])"
   ]
  },
  {
   "cell_type": "code",
   "execution_count": null,
   "metadata": {},
   "outputs": [],
   "source": [
    "W"
   ]
  },
  {
   "cell_type": "markdown",
   "metadata": {},
   "source": [
    "### Модель документа\n",
    "\n",
    "Модель состоит только из номера"
   ]
  },
  {
   "cell_type": "code",
   "execution_count": null,
   "metadata": {
    "colab": {},
    "colab_type": "code",
    "id": "WeBhRJrd7njP"
   },
   "outputs": [],
   "source": [
    "class LTSDocument(document.AbstractDocument):\n",
    "\n",
    "#    doc_num = DOC_NUM\n",
    "    def __init__(self, doc_id):\n",
    "        # doc_id is an integer representing the unique ID of this document\n",
    "        super(LTSDocument, self).__init__(doc_id)\n",
    "        \n",
    "    def create_observation(self):\n",
    "        return np.array([self._doc_id])\n",
    "\n",
    "    @staticmethod\n",
    "    def observation_space():\n",
    "        return spaces.Discrete(LTSDocument.doc_num)\n",
    "  \n",
    "    def __str__(self):\n",
    "        return \"Document #{}\".format(self._doc_id)"
   ]
  },
  {
   "cell_type": "code",
   "execution_count": null,
   "metadata": {
    "colab": {},
    "colab_type": "code",
    "id": "PCOf-66UWZwe"
   },
   "outputs": [],
   "source": [
    "class LTSDocumentSampler(document.AbstractDocumentSampler):\n",
    "    def __init__(self, doc_num=10, doc_ctor=LTSDocument, **kwargs):\n",
    "        doc_ctor.doc_num = doc_num\n",
    "        super(LTSDocumentSampler, self).__init__(doc_ctor, **kwargs)\n",
    "        self._doc_count = 0\n",
    "        self.doc_num = doc_num\n",
    "        \n",
    "    def sample_document(self):\n",
    "        doc_features = {}\n",
    "        doc_features['doc_id'] = self._doc_count\n",
    "        \n",
    "        if self._doc_count < self.doc_num:\n",
    "            self._doc_count = (self._doc_count + 1) % self.doc_num\n",
    "        else:\n",
    "            self._doc_count = 0\n",
    "        return self._doc_ctor(**doc_features)"
   ]
  },
  {
   "cell_type": "markdown",
   "metadata": {
    "colab_type": "text",
    "id": "i43PEB15y3LX"
   },
   "source": [
    "With this we can now simulate documents."
   ]
  },
  {
   "cell_type": "code",
   "execution_count": null,
   "metadata": {
    "colab": {
     "height": 133
    },
    "colab_type": "code",
    "executionInfo": {
     "elapsed": 17,
     "status": "ok",
     "timestamp": 1567203606615,
     "user": {
      "displayName": "Martin Mladenov",
      "photoUrl": "https://lh3.googleusercontent.com/a-/AAuE7mBGIUwOMhxCVcEq0Q5I9YhNVfoEjuuMOWzhNOPn=s64",
      "userId": "05569865531106976534"
     },
     "user_tz": 420
    },
    "id": "XGPL7IcHyksr",
    "outputId": "073ea4ec-d089-421e-8b6d-b84319a155e7"
   },
   "outputs": [],
   "source": [
    "sampler = LTSDocumentSampler(DOC_NUM)\n",
    "for i in range(DOC_NUM * 2): \n",
    "    d = sampler.sample_document()\n",
    "    print(\"Documents have observation space:\", d.observation_space(), \"\\n\"\n",
    "          \"An example realization is: \", d.create_observation())"
   ]
  },
  {
   "cell_type": "markdown",
   "metadata": {
    "colab_type": "text",
    "id": "ZtFhtKrLSBiq"
   },
   "source": [
    "## User state and user sampler \n",
    "Similarly to documents, we begin by implementing a user state class, i.e. a class that acts as a container for all these parameters. Similarly to AbstractDocument, AbstractUserState requires us to implement an observation_space() and create_observations(). These are used to feed partial (or complete) information about the user's state to the agent at every iteration. \n",
    "\n",
    "We also maintain a time budget, which will cap the session length. In this scenario, the session length will be fixed to some constant, so it's not worth being explicit with our time budget modeling, but one can definitely consider this as part of the state and do more interesting thigs with it. \n",
    "\n",
    "Finally we will implement a score_document method, that maps a document to a non-negative real number. This significance of this will become clear shortly. "
   ]
  },
  {
   "cell_type": "code",
   "execution_count": null,
   "metadata": {
    "colab": {},
    "colab_type": "code",
    "id": "q5hCeVFuq8qB"
   },
   "outputs": [],
   "source": [
    "class LTSUserState(user.AbstractUserState):\n",
    "    \n",
    "    def __init__(self, current, time_budget=1):\n",
    "\n",
    "        ## State vavriables\n",
    "        ##############################\n",
    "        self.current = current\n",
    "        self.time_budget = time_budget\n",
    "\n",
    "    \n",
    "    def create_observation(self):\n",
    "        return np.array([self.current,])\n",
    "\n",
    "    @staticmethod\n",
    "    def observation_space():\n",
    "        return spaces.Discrete(LTSUserState.doc_num)\n",
    "\n",
    "    \n",
    "    # scoring function for use in the choice model -- the user is more likely to\n",
    "    # click on more chocolatey content.\n",
    "    def score_document(self, doc_obs):\n",
    "#         print(self.current, doc_obs[0], LTSUserState.doc_num)\n",
    "        return W[self.current, doc_obs[0]]"
   ]
  },
  {
   "cell_type": "markdown",
   "metadata": {
    "colab_type": "text",
    "id": "fyUiJiKEq81y"
   },
   "source": [
    "Also similarly to our document model, we have need a starting state sampler, that sets the starting user state for every session. For this tutoral, we will just sample the starting $\\text{nke}_0$ and keep all the static parameters the same, meaning that we essentially deal with the same user at different levels of satisfaction. One can, of course, extend this easily to generate also users with different parameters by randomizing the values. \n",
    "\n",
    "Observe that if $\\eta = 0$, $\\text{nke}$ would be bounded in the interval $\\left[-\\frac{1}{1-\\beta}, \\ldots, \\frac{1}{1-\\beta} \\right]$ at all times, so as starting distribution we just sample uniformly from that range. Sampling code has to be implemented in sample_user(), as required by the base class."
   ]
  },
  {
   "cell_type": "code",
   "execution_count": null,
   "metadata": {
    "colab": {},
    "colab_type": "code",
    "id": "76xcc-7WZeAT"
   },
   "outputs": [],
   "source": [
    "class LTSStaticUserSampler(user.AbstractUserSampler):\n",
    "    _state_parameters = None\n",
    "\n",
    "    def __init__(self, user_ctor=LTSUserState, doc_num=-10, current=0, **kwargs):\n",
    "        user_ctor.doc_num = doc_num\n",
    "        self.doc_num = doc_num\n",
    "        self._state_parameters = {'current': current}\n",
    "        super(LTSStaticUserSampler, self).__init__(user_ctor, **kwargs)\n",
    "\n",
    "    def sample_user(self):\n",
    "        current = np.random.randint(self.doc_num)\n",
    "        self._state_parameters['current'] = current\n",
    "        return self._user_ctor(**self._state_parameters)\n"
   ]
  },
  {
   "cell_type": "markdown",
   "metadata": {
    "colab_type": "text",
    "id": "xrXhPNf_cgEY"
   },
   "source": [
    "Let's try this out!"
   ]
  },
  {
   "cell_type": "code",
   "execution_count": null,
   "metadata": {
    "colab": {
     "height": 268
    },
    "colab_type": "code",
    "executionInfo": {
     "elapsed": 139,
     "status": "ok",
     "timestamp": 1567203606899,
     "user": {
      "displayName": "Martin Mladenov",
      "photoUrl": "https://lh3.googleusercontent.com/a-/AAuE7mBGIUwOMhxCVcEq0Q5I9YhNVfoEjuuMOWzhNOPn=s64",
      "userId": "05569865531106976534"
     },
     "user_tz": 420
    },
    "id": "YMMmFOcLchuX",
    "outputId": "a9438e01-4350-4f02-e2aa-e59114eadd00"
   },
   "outputs": [],
   "source": [
    "sampler = LTSStaticUserSampler(doc_num=10)\n",
    "starting_nke = []\n",
    "for i in range(1000):\n",
    "    sampled_user = sampler.sample_user()"
   ]
  },
  {
   "cell_type": "markdown",
   "metadata": {
    "colab_type": "text",
    "id": "-ANKrwWKKRB1"
   },
   "source": [
    "## Response model\n",
    "\n",
    "The next thing we want to check off our list is the user response class. RecSim will generate one response for every recommended item in the slate. The contents of the response are what the agent will see as document-specific feedback from the recommendation (the non-document specific feedback being generated in LTSUserState.create_observation).  "
   ]
  },
  {
   "cell_type": "code",
   "execution_count": null,
   "metadata": {
    "colab": {},
    "colab_type": "code",
    "id": "wTESuYu1J8-w"
   },
   "outputs": [],
   "source": [
    "class LTSResponse(user.AbstractResponse):\n",
    "\n",
    "    def __init__(self, clicked=False):\n",
    "        self.clicked = clicked\n",
    "\n",
    "    def create_observation(self):\n",
    "#        print(self.clicked)\n",
    "        return {'click': int(self.clicked)}\n",
    "\n",
    "    @classmethod\n",
    "    def response_space(cls):\n",
    "        return spaces.Dict({\n",
    "            'click':\n",
    "                spaces.Discrete(2),\n",
    "        })"
   ]
  },
  {
   "cell_type": "markdown",
   "metadata": {
    "colab_type": "text",
    "id": "fzKB9nX8si77"
   },
   "source": [
    "##User model\n",
    "\n",
    "Now that we have a way to generate users for our sessions, need to specify the actual user behavior. A RecSim user model (deriving from recsim.user.AbstractUserModel) is responsible for \n",
    "* maintaining user state, \n",
    "* evolving user state as a result of recommendations,\n",
    "* generating a response to a slate of recommendations.\n",
    "\n",
    "To this end, our user model is required by the base class to implement update_state() and simulate_response(), as well as is_terminal, which indicates when the end of the session occurs. This is facilitated by decreasing *self.time_budget* on every step.To make presentation clearer, we will define each function separately, and then assemble them into a class.\n",
    "\n"
   ]
  },
  {
   "cell_type": "markdown",
   "metadata": {
    "colab_type": "text",
    "id": "YgovTg4s2Vbf"
   },
   "source": [
    "Our init is simple---we just pass the response_model constructor, user sampler and slate size down to the AbstractUserModel base class. Exploring other environments, the reader might notice that user model __init__ functions do offer a lot of flexibility for configuring the simulation. For now, however, we stick to the basics and hardcode things."
   ]
  },
  {
   "cell_type": "code",
   "execution_count": null,
   "metadata": {
    "colab": {},
    "colab_type": "code",
    "id": "HajPntS8GELb"
   },
   "outputs": [],
   "source": [
    "def user_init(self,\n",
    "              slate_size,\n",
    "              doc_num, choice_features,\n",
    "              seed=0):\n",
    "\n",
    "    LTSUserStateClass = LTSUserState\n",
    "    LTSUserStateClass.doc_num = doc_num\n",
    "    \n",
    "    super(LTSUserModel,\n",
    "        self).__init__(LTSResponse,\n",
    "                       LTSStaticUserSampler(LTSUserState,\n",
    "                                            seed=seed, doc_num=DOC_NUM), slate_size)\n",
    "    self.choice_model = UserChoiceModel(choice_features)"
   ]
  },
  {
   "cell_type": "markdown",
   "metadata": {
    "colab_type": "text",
    "id": "g01X7pcf4VT2"
   },
   "source": [
    "The simulate_response() method takes in a slate (list) of recommended (i.e., produced by the agent) LTSDocuments and must output a slate of user responses. The *k*-th response in the slate of responses corresponds to the *k*-th document in the recommendation slate. In this case, we pick one document to click on based on our choice model, and produce an engagement value. We will let the responses to the unclicked documents be vacuous, however, one might use them in more subtle ways (e.g., recording whether the user inspected that document, etc.).  "
   ]
  },
  {
   "cell_type": "code",
   "execution_count": null,
   "metadata": {},
   "outputs": [],
   "source": [
    "from recsim.choice_model import NormalizableChoiceModel, softmax"
   ]
  },
  {
   "cell_type": "code",
   "execution_count": null,
   "metadata": {},
   "outputs": [],
   "source": [
    "class UserChoiceModel(NormalizableChoiceModel):  # pytype: disable=ignored-metaclass\n",
    "    \"\"\"Abstract class to represent the user choice model.\n",
    "    Each user has a choice model.\n",
    "    \"\"\"\n",
    "    def __init__(self, choice_features):\n",
    "        super(UserChoiceModel, self).__init__()\n",
    "        self._no_click_mass = choice_features.get('no_click_mass', -float('Inf'))\n",
    "\n",
    "    def score_documents(self, user_state, doc_obs):\n",
    "        logits = self._score_documents_helper(user_state, doc_obs)\n",
    "        logits = np.append(logits, self._no_click_mass)\n",
    "\n",
    "        all_scores = softmax(logits)\n",
    "        self._scores = all_scores[:-1]\n",
    "\n",
    "        self._score_no_click = all_scores[-1]"
   ]
  },
  {
   "cell_type": "code",
   "execution_count": null,
   "metadata": {
    "colab": {},
    "colab_type": "code",
    "id": "7j9jMGv0KvEu"
   },
   "outputs": [],
   "source": [
    "def simulate_response(self, slate_documents):\n",
    "    # List of empty responses\n",
    "    responses = [self._response_model_ctor() for _ in slate_documents]\n",
    "    # Get click from of choice model.\n",
    "    \n",
    "    self.choice_model.score_documents(self._user_state, [doc.create_observation() for doc in slate_documents])\n",
    "    scores = self.choice_model.scores\n",
    "    selected_index = self.choice_model.choose_item()\n",
    "    # Populate clicked item.\n",
    "#    selected_index.remove(None)\n",
    "    if not selected_index:\n",
    "        return responses\n",
    "    self._generate_response(slate_documents[selected_index],\n",
    "                          responses[selected_index])\n",
    "    return responses\n",
    "\n",
    "def generate_response(self, doc, response):\n",
    "    '''doc'''\n",
    "    response.clicked = True\n"
   ]
  },
  {
   "cell_type": "code",
   "execution_count": null,
   "metadata": {
    "colab": {},
    "colab_type": "code",
    "id": "_EQRVNW9KuT9"
   },
   "outputs": [],
   "source": [
    "def update_state(self, slate_documents, responses):\n",
    "    for doc, response in zip(slate_documents, responses):\n",
    "        if response.clicked:\n",
    "            self._user_state.time_budget -= np.random.binomial(1, 0.1)\n",
    "            return\n",
    "        else:\n",
    "            self._user_state.time_budget -= np.random.binomial(1, 0.2)"
   ]
  },
  {
   "cell_type": "code",
   "execution_count": null,
   "metadata": {
    "colab": {},
    "colab_type": "code",
    "id": "PYztrGCdKrAF"
   },
   "outputs": [],
   "source": [
    "def is_terminal(self):\n",
    "  \"\"\"Returns a boolean indicating if the session is over.\"\"\"\n",
    "  return self._user_state.time_budget <= 0\n"
   ]
  },
  {
   "cell_type": "code",
   "execution_count": null,
   "metadata": {
    "colab": {},
    "colab_type": "code",
    "id": "9g-Xso_5Ivx-"
   },
   "outputs": [],
   "source": [
    "LTSUserModel = type(\"LTSUserModel\", (user.AbstractUserModel,),\n",
    "                    {\"__init__\": user_init,\n",
    "                     \"is_terminal\": is_terminal,\n",
    "                     \"update_state\": update_state,\n",
    "                     \"simulate_response\": simulate_response,\n",
    "                     \"_generate_response\": generate_response})"
   ]
  },
  {
   "cell_type": "markdown",
   "metadata": {
    "colab_type": "text",
    "id": "iPNPWRhqJ0Q4"
   },
   "source": [
    "Finally, we assemble all components into an Environment."
   ]
  },
  {
   "cell_type": "code",
   "execution_count": null,
   "metadata": {
    "colab": {},
    "colab_type": "code",
    "id": "qgynvev0Jzgd"
   },
   "outputs": [],
   "source": [
    " slate_size = 3\n",
    " num_candidates = 4\n",
    " ltsenv = environment.Environment(\n",
    "            LTSUserModel(slate_size, choice_features={'no_click_mass': -1}, doc_num=DOC_NUM),\n",
    "            LTSDocumentSampler(doc_num=DOC_NUM),\n",
    "            num_candidates,\n",
    "            slate_size,\n",
    "            resample_documents=True)\n"
   ]
  },
  {
   "cell_type": "code",
   "execution_count": null,
   "metadata": {
    "colab": {},
    "colab_type": "code",
    "id": "L5GhbiI2JJWO"
   },
   "outputs": [],
   "source": [
    "def clicked_engagement_reward(responses):\n",
    "  reward = 0.0\n",
    "  for response in responses:\n",
    "    if response.clicked:\n",
    "      reward += 1\n",
    "#  print(responses)\n",
    "  return reward"
   ]
  },
  {
   "cell_type": "markdown",
   "metadata": {
    "colab_type": "text",
    "id": "h1FEWpgASVyy"
   },
   "source": [
    "Now, we simply use the OpenAI gym wrapper, which essentially provides a familiar step-based API."
   ]
  },
  {
   "cell_type": "code",
   "execution_count": null,
   "metadata": {
    "colab": {},
    "colab_type": "code",
    "id": "ysMbbgh_JqsO"
   },
   "outputs": [],
   "source": [
    "lts_gym_env = recsim_gym.RecSimGymEnv(ltsenv, clicked_engagement_reward)"
   ]
  },
  {
   "cell_type": "code",
   "execution_count": null,
   "metadata": {},
   "outputs": [],
   "source": [
    "np.random.seed(100004)"
   ]
  },
  {
   "cell_type": "code",
   "execution_count": null,
   "metadata": {
    "colab": {
     "height": 550
    },
    "colab_type": "code",
    "executionInfo": {
     "elapsed": 27,
     "status": "ok",
     "timestamp": 1567203607230,
     "user": {
      "displayName": "Martin Mladenov",
      "photoUrl": "https://lh3.googleusercontent.com/a-/AAuE7mBGIUwOMhxCVcEq0Q5I9YhNVfoEjuuMOWzhNOPn=s64",
      "userId": "05569865531106976534"
     },
     "user_tz": 420
    },
    "id": "b_9yA0p2KwHf",
    "outputId": "e177b91c-a822-41d2-b781-7658c49ed435"
   },
   "outputs": [],
   "source": [
    "observation_0 = lts_gym_env.reset()\n",
    "print('Observation 0')\n",
    "print('Available documents')\n",
    "doc_strings = ['doc_id ' + key + \" kaleness \" + str(value) for key, value\n",
    "               in observation_0['doc'].items()]\n",
    "print('\\n'.join(doc_strings))\n",
    "print('Noisy user state observation')\n",
    "print(observation_0['user'])\n",
    "\n",
    "for i in range(10):\n",
    "    # Agent recommends the first three documents.\n",
    "    recommendation_slate_0 = [0, 1, 2]\n",
    "    observation_1, reward, done, _ = lts_gym_env.step(recommendation_slate_0)\n",
    "    print('Observation 1')\n",
    "    print('Available documents')\n",
    "    doc_strings = ['doc_id ' + key + \" kaleness \" + str(value) for key, value\n",
    "                   in observation_1['doc'].items()]\n",
    "    print('\\n'.join(doc_strings))\n",
    "    rsp_strings = [str(response) for response in observation_1['response']]\n",
    "    print('User responses to documents in the slate')\n",
    "    print('\\n'.join(rsp_strings))\n",
    "    print('Noisy user state observation')\n",
    "    print(observation_1['user'])"
   ]
  },
  {
   "cell_type": "code",
   "execution_count": null,
   "metadata": {},
   "outputs": [],
   "source": [
    "observation_0['doc'].items()"
   ]
  },
  {
   "cell_type": "code",
   "execution_count": null,
   "metadata": {},
   "outputs": [],
   "source": [
    "from recsim.agents.full_slate_q_agent import FullSlateQAgent\n",
    "from recsim.agents.random_agent import RandomAgent\n",
    "\n",
    "\n",
    "from recsim.simulator import runner_lib\n",
    "\n",
    "def create_agent(sess, environment, eval_mode, summary_writer=None):\n",
    "    return FullSlateQAgent(sess, environment.observation_space, environment.action_space,) \n",
    "#    return RandomAgent(environment.action_space,)"
   ]
  },
  {
   "cell_type": "code",
   "execution_count": null,
   "metadata": {},
   "outputs": [],
   "source": [
    "slate_size = 2\n",
    "num_candidates = 5\n",
    "ltsenv = environment.Environment(\n",
    "        LTSUserModel(slate_size, choice_features={'no_click_mass': -1}, doc_num=DOC_NUM),\n",
    "        LTSDocumentSampler(doc_num=DOC_NUM),\n",
    "        num_candidates,\n",
    "        slate_size,\n",
    "        resample_documents=False)\n",
    "\n",
    "env = recsim_gym.RecSimGymEnv(ltsenv, clicked_engagement_reward)\n",
    "\n",
    "tmp_base_dir = 'tmp'\n",
    "episode_log_file_train = 'episodes_train'"
   ]
  },
  {
   "cell_type": "code",
   "execution_count": null,
   "metadata": {},
   "outputs": [],
   "source": [
    "import numpy as np\n",
    "from recsim.agents import full_slate_q_agent\n",
    "from recsim.simulator import runner_lib\n",
    "\n",
    "seed = 0\n",
    "slate_size = 1\n",
    "np.random.seed(seed)\n",
    "env_config = {\n",
    "  'num_candidates': 5,\n",
    "  'slate_size': slate_size,\n",
    "  'resample_documents': True,\n",
    "  'seed': seed,\n",
    "}"
   ]
  },
  {
   "cell_type": "code",
   "execution_count": null,
   "metadata": {},
   "outputs": [],
   "source": [
    "! pwd"
   ]
  },
  {
   "cell_type": "code",
   "execution_count": null,
   "metadata": {},
   "outputs": [],
   "source": [
    "! rm -rf tmp\n",
    "\n",
    "runner = runner_lib.TrainRunner(\n",
    "  base_dir=tmp_base_dir,\n",
    "  create_agent_fn=create_agent,\n",
    "  env=env,\n",
    "  episode_log_file=episode_log_file_train,\n",
    "  max_training_steps=100,\n",
    "  num_iterations=1000)\n",
    "runner.run_experiment()\n",
    "\n",
    "runner = runner_lib.EvalRunner(\n",
    "  base_dir=tmp_base_dir,\n",
    "  create_agent_fn=create_agent,\n",
    "  env=env,\n",
    "  max_eval_episodes=5,\n",
    "  test_mode=True)\n",
    "\n",
    "runner.run_experiment()"
   ]
  },
  {
   "cell_type": "code",
   "execution_count": null,
   "metadata": {},
   "outputs": [],
   "source": [
    "%load_ext tensorboard"
   ]
  },
  {
   "cell_type": "code",
   "execution_count": null,
   "metadata": {},
   "outputs": [],
   "source": [
    "%tensorboard --logdir tmp"
   ]
  },
  {
   "cell_type": "code",
   "execution_count": null,
   "metadata": {},
   "outputs": [],
   "source": []
  },
  {
   "cell_type": "code",
   "execution_count": 2,
   "metadata": {},
   "outputs": [
    {
     "data": {
      "text/plain": [
       "False"
      ]
     },
     "execution_count": 2,
     "metadata": {},
     "output_type": "execute_result"
    }
   ],
   "source": [
    "0 is None"
   ]
  },
  {
   "cell_type": "code",
   "execution_count": null,
   "metadata": {},
   "outputs": [],
   "source": []
  }
 ],
 "metadata": {
  "colab": {
   "collapsed_sections": [],
   "last_runtime": {
    "build_target": "//research/colab/notebook:notebook_backend_py3",
    "kind": "private"
   },
   "name": "RecSim: Developing an Environment.ipynb",
   "provenance": [
    {
     "file_id": "16dwynuiTyTzK-Tv7y6j5ynq4vAADJ-x7",
     "timestamp": 1567802857573
    }
   ]
  },
  "kernelspec": {
   "display_name": "Python 3",
   "language": "python",
   "name": "python3"
  },
  "language_info": {
   "codemirror_mode": {
    "name": "ipython",
    "version": 3
   },
   "file_extension": ".py",
   "mimetype": "text/x-python",
   "name": "python",
   "nbconvert_exporter": "python",
   "pygments_lexer": "ipython3",
   "version": "3.7.5"
  }
 },
 "nbformat": 4,
 "nbformat_minor": 1
}
